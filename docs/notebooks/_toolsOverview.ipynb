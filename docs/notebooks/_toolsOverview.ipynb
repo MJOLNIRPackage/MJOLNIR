{
 "cells": [
  {
   "cell_type": "markdown",
   "id": "2442ae62",
   "metadata": {},
   "source": [
    "# Overview of _tools\n",
    "\n",
    "Some different tools have been developed taking care of different aspects of the MJOLNIR package. Some are used as decorators and does thus not make sense to utilize outside of the package itself. Below, the <code>binEdges</code> and <code>fileListGenerator</code> will be shown.\n",
    "\n"
   ]
  },
  {
   "cell_type": "code",
   "execution_count": 1,
   "id": "84bb336d",
   "metadata": {
    "execution": {
     "iopub.execute_input": "2023-05-01T15:10:09.396486Z",
     "iopub.status.busy": "2023-05-01T15:10:09.396486Z",
     "iopub.status.idle": "2023-05-01T15:10:11.493524Z",
     "shell.execute_reply": "2023-05-01T15:10:11.493524Z"
    }
   },
   "outputs": [],
   "source": [
    "%matplotlib inline\n",
    "import numpy as np\n",
    "import matplotlib.pyplot as plt\n",
    "from MJOLNIR import _tools\n",
    "from MJOLNIR.Data import DataSet\n",
    "# To generate a list of data files from nubers\n",
    "\n",
    "numbers = '457-458,460,461'\n",
    "files = _tools.fileListGenerator(numbers,'/Path/To/Data/',year=2018)\n",
    "\n",
    "## Creating a non-linear distribution of points\n",
    "points = np.exp(np.linspace(-1,np.log(10),21))\n",
    "\n",
    "minimumBinSize = 1\n",
    "\n",
    "Bins = _tools.binEdges(points,minimumBinSize)\n",
    "\n",
    "fig,ax = plt.subplots()\n",
    "\n",
    "ax.scatter(points,np.ones_like(points),c='r',label='Data Points',zorder=2)\n",
    "[ax.plot([Bins[i],Bins[i]],[0.5,1.5],'k',zorder=1) for i in range(len(Bins))]\n",
    "ax.plot(np.concatenate([Bins,np.flip(Bins)]),np.concatenate([np.ones_like(Bins)*0.5,np.ones_like(Bins)*1.5]),c='k',label='Bins',zorder=1)\n",
    "ax.set_xticks(np.linspace(0,10,11))\n",
    "ax.set_yticks([])\n",
    "ax.set_ylim(-1,3)\n",
    "ax.grid(True,c='k',zorder=0)\n",
    "\n",
    "\n"
   ]
  },
  {
   "cell_type": "markdown",
   "id": "f79ba12f",
   "metadata": {},
   "source": [
    "When dealing with data that is non-uniformly distributed it is sometimes necessary to have a function that creates suitable bins all containing data. This is exactly what the <code>_tools.binEdges</code> does. It starts the first bin starts 0.1 times the tolerance away from the first unique entry and iterates through the list of points. For each step, as long as the distance between the current value and the next is less than the tolerance the bin is expanded. If the distance is greater, a bin is created in the middle between the last accepted and the rejected point. This insures that all points are within a bin and that no bins are empty. For the last point of the list, it is checked if the difference between last bin edge and point is smaller than tolerance\\*1.1 and if so, a bin is created of size tolerance. Otherwise, the las bin edge is 0.1\\*tolerance away from last point. An example is shown in the above code generating the figure below:"
   ]
  },
  {
   "cell_type": "markdown",
   "id": "1fff4264",
   "metadata": {},
   "source": [
    "## Generate Data Path\n",
    "Mostely, one needs to combine files with different run numbers. These are often sequential and thus making a loop to generate the file path is straight forward. However, sometimes one is to combine files differently. This is taken care of with the function <code>_tools.fileListGenerator</code>, which takes a number string, a folder, and the year of the data files. From this data files are generated. The number string works by creating paths to all files between and including numbers provided like “xx-yy”. Adding numbers by comma separation simply appends it. Further, a combination of these two methods is possible. The resulting files from above is:"
   ]
  },
  {
   "cell_type": "code",
   "execution_count": 2,
   "id": "f85829d4",
   "metadata": {
    "execution": {
     "iopub.execute_input": "2023-05-01T15:10:11.494567Z",
     "iopub.status.busy": "2023-05-01T15:10:11.494567Z",
     "iopub.status.idle": "2023-05-01T15:10:11.511059Z",
     "shell.execute_reply": "2023-05-01T15:10:11.510646Z"
    }
   },
   "outputs": [
    {
     "data": {
      "text/plain": [
       "['/Path/To/Data/camea2018n000457.hdf',\n",
       " '/Path/To/Data/camea2018n000458.hdf',\n",
       " '/Path/To/Data/camea2018n000460.hdf',\n",
       " '/Path/To/Data/camea2018n000461.hdf']"
      ]
     },
     "execution_count": 2,
     "metadata": {},
     "output_type": "execute_result"
    }
   ],
   "source": [
    "_tools.fileListGenerator(numbers,'/Path/To/Data/',year=2018)"
   ]
  }
 ],
 "metadata": {
  "kernelspec": {
   "display_name": "Python 3 (ipykernel)",
   "language": "python",
   "name": "python3"
  },
  "language_info": {
   "codemirror_mode": {
    "name": "ipython",
    "version": 3
   },
   "file_extension": ".py",
   "mimetype": "text/x-python",
   "name": "python",
   "nbconvert_exporter": "python",
   "pygments_lexer": "ipython3",
   "version": "3.9.7"
  }
 },
 "nbformat": 4,
 "nbformat_minor": 5
}
