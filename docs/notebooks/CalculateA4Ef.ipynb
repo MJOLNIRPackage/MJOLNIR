{
 "cells": [
  {
   "cell_type": "markdown",
   "id": "fb500173",
   "metadata": {},
   "source": [
    "# Calcualte $A_4$ and $E_f$\n",
    "\n",
    "With a virtual representation of the instrument, as explained in the Instrument tutorial, the first thing is to calculate the corresponding A4 and Ef values. This is done by simply accessing the corresponding attributes of the instrument object. The instrument needs to have it initialize method called such that it calculates the A4 and Ef values when a wedge has been appended.\n"
   ]
  },
  {
   "cell_type": "code",
   "execution_count": 1,
   "id": "13537470",
   "metadata": {
    "execution": {
     "iopub.execute_input": "2023-05-01T08:21:39.292977Z",
     "iopub.status.busy": "2023-05-01T08:21:39.292977Z",
     "iopub.status.idle": "2023-05-01T08:21:40.487539Z",
     "shell.execute_reply": "2023-05-01T08:21:40.487145Z"
    }
   },
   "outputs": [
    {
     "name": "stdout",
     "output_type": "stream",
     "text": [
      "[[array([-1.57079633, -1.57079633, -1.57079633, -1.57079633, -1.57079633,\n",
      "       -1.57079633]), array([-1.50556269, -1.5067601 , -1.50824438, -1.52086906, -1.52111537,\n",
      "       -1.52159382])]]\n",
      "[[array([4.81164763, 5.44262522, 6.18119629, 3.83622353, 4.27947022,\n",
      "       4.81164763]), array([4.83218148, 5.46500461, 6.20544497, 3.84580212, 4.2900502 ,\n",
      "       4.82331491])]]\n"
     ]
    }
   ],
   "source": [
    "from MJOLNIR.Geometry import Instrument,Detector,Analyser,Wedge\n",
    "# Create instrument\n",
    "Instr = Instrument.Instrument()\n",
    "\n",
    "# Create two detectors and their corresponding analysers\n",
    "Det = Detector.TubeDetector1D(position=(1,0,1),direction=(1,0,0),pixels=10,split=[2,5,8],length=1.0)\n",
    "Det2 = Detector.TubeDetector1D(position=(1,0.1,1),direction=(1,0,0),pixels=10,split=[2,5,8],length=1.0)\n",
    "Ana = Analyser.FlatAnalyser(position=(0.5,0,0),direction=(1,0,1))\n",
    "Ana2 = Analyser.FlatAnalyser(position=(1,0,0),direction=(1,0,1))\n",
    "\n",
    "# Collect everything in the wedge object\n",
    "wedge = Wedge.Wedge(position=(0,0,0),detectors=[Det,Det2],analysers=[Ana,Ana2])\n",
    "\n",
    "Instr.append(wedge)\n",
    "\n",
    "Instr.initialize()\n",
    "print(Instr.A4)\n",
    "print(Instr.Ef)"
   ]
  },
  {
   "cell_type": "markdown",
   "id": "640126f1",
   "metadata": {},
   "source": [
    "Notice that the number of pixels and how these are splitted are given to the detector. What happens is that the detector splits it’s pixels into two lists; pixels before and after 2 and 8 respectively are discarted as non-active, while pixels 2-4 and 5-7 corresponds to the two areas ‘seeing’ the two detectors. That is, the “ManyToMany” concept has been given as default. Another concept exists, the “OneToOne”, as tabulated below."
   ]
  },
  {
   "cell_type": "markdown",
   "id": "e418bd61",
   "metadata": {},
   "source": [
    "| Concept    |                      Effect                     | Requirement                                                                                                              |\n",
    "|------------|:-----------------------------------------------:|--------------------------------------------------------------------------------------------------------------------------|\n",
    "| OneToOne   |      Each detector \"sees\" only one analyser     | The number of detectors and analysers in the wedge is to be equal                                                        |\n",
    "| ManyToMany | Each detector \"sees\" all analysers in the wedge | The number of splits is to be equal to the number of analysers+2, where the +2 comes from discarding the non-active ends |"
   ]
  }
 ],
 "metadata": {
  "kernelspec": {
   "display_name": "Python 3 (ipykernel)",
   "language": "python",
   "name": "python3"
  },
  "language_info": {
   "codemirror_mode": {
    "name": "ipython",
    "version": 3
   },
   "file_extension": ".py",
   "mimetype": "text/x-python",
   "name": "python",
   "nbconvert_exporter": "python",
   "pygments_lexer": "ipython3",
   "version": "3.9.7"
  }
 },
 "nbformat": 4,
 "nbformat_minor": 5
}
