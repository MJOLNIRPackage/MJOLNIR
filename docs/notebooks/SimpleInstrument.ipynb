{
 "cells": [
  {
   "cell_type": "markdown",
   "id": "3dc0fe54",
   "metadata": {},
   "source": [
    "# Build simple instrument\n",
    "\n",
    "One can build a virtual representation of the <code>instrument</code> in question throughout the Instrument module. It consists of a series of different objects: <code>Instrument</code>, <code>Wedge</code>, <code>Detector</code>, and <code>alyser</code>, which are the objects needed to create the basics of the instrument. Everything regarding the guide has not been implemented. Below is a simple example of how to create an instrument consisting of an analyser and a radial detector."
   ]
  },
  {
   "cell_type": "code",
   "execution_count": 1,
   "id": "5eac6afe",
   "metadata": {
    "execution": {
     "iopub.execute_input": "2023-07-25T11:38:45.572342Z",
     "iopub.status.busy": "2023-07-25T11:38:45.572342Z",
     "iopub.status.idle": "2023-07-25T11:38:47.851892Z",
     "shell.execute_reply": "2023-07-25T11:38:47.851192Z"
    }
   },
   "outputs": [],
   "source": [
    "%matplotlib inline\n",
    "from MJOLNIR.Geometry import Instrument,Detector,Analyser,Wedge\n",
    "import matplotlib.pyplot as plt\n",
    "plt.rcParams['figure.figsize'] = [14, 8]\n",
    "plt.rcParams['figure.dpi'] = 100\n",
    "import numpy as np\n",
    "from mpl_toolkits import mplot3d\n",
    "\n",
    "Instr = Instrument.Instrument()\n",
    "\n",
    "Det = Detector.TubeDetector1D(position=(1,0,1),direction=(1,0,0))\n",
    "Ana = Analyser.FlatAnalyser(position=(1,0,0),direction=(1,0,1))\n",
    "\n",
    "wedge = Wedge.Wedge(position=(0,0,0),detectors=Det,analysers=Ana)\n",
    "\n",
    "Instr.append(wedge)\n",
    "\n",
    "fig = plt.figure()\n",
    "ax = plt.axes(projection='3d')\n",
    "\n",
    "Instr.plot(ax)\n",
    "\n",
    "ax.set_xlim(-0.1,1.1)\n",
    "ax.set_ylim(-0.1,1.1)\n",
    "ax.set_zlim(-0.1,1.1);\n",
    "ax.get_figure().set_size_inches(16,12)"
   ]
  },
  {
   "cell_type": "markdown",
   "id": "e8676b7a",
   "metadata": {},
   "source": [
    "The <code>instrument</code> is simply initialized without any objects. Then the detector and analyser are created and joined in the wedge object. The wedge is then appended to the instrument which automatically adds it to it instrument description. Another way of achieving the same result is to first create the wedge containing the detector and analyser, add the two to the wedge and then initialize the instrument with the wedge as argument. In any case, the instrument is plotted throughout the plot method and the resulting image is shown above."
   ]
  }
 ],
 "metadata": {
  "kernelspec": {
   "display_name": "Python 3 (ipykernel)",
   "language": "python",
   "name": "python3"
  },
  "language_info": {
   "codemirror_mode": {
    "name": "ipython",
    "version": 3
   },
   "file_extension": ".py",
   "mimetype": "text/x-python",
   "name": "python",
   "nbconvert_exporter": "python",
   "pygments_lexer": "ipython3",
   "version": "3.9.7"
  }
 },
 "nbformat": 4,
 "nbformat_minor": 5
}
